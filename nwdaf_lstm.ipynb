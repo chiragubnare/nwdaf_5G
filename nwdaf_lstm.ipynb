{
  "cells": [
    {
      "cell_type": "code",
      "execution_count": 1,
      "metadata": {
        "colab": {
          "base_uri": "https://localhost:8080/"
        },
        "id": "CS7vv3BHXjEx",
        "outputId": "c9734fa9-6555-4a15-a210-fcadf886e031"
      },
      "outputs": [
        {
          "output_type": "stream",
          "name": "stdout",
          "text": [
            "Mounted at /content/drive\n"
          ]
        }
      ],
      "source": [
        "from google.colab import drive\n",
        "drive.mount('/content/drive')"
      ]
    },
    {
      "cell_type": "code",
      "execution_count": 2,
      "metadata": {
        "id": "ABWMqHcGXucN"
      },
      "outputs": [],
      "source": [
        "Path = 'content/drive/My Drive/Colab Notebooks/nwdaf_train.csv'"
      ]
    },
    {
      "cell_type": "code",
      "execution_count": 3,
      "metadata": {
        "id": "GtEOYofSYNRA"
      },
      "outputs": [],
      "source": [
        "import pandas as pd\n",
        "train_set = pd.read_csv('/content/drive/MyDrive/Colab Notebooks/nwdaf_train.csv', sep=',')"
      ]
    },
    {
      "cell_type": "code",
      "execution_count": 4,
      "metadata": {
        "colab": {
          "base_uri": "https://localhost:8080/",
          "height": 270
        },
        "id": "jTCUrR8bYkmc",
        "outputId": "435613a2-d829-4702-a651-8dff8b5d5cb4"
      },
      "outputs": [
        {
          "output_type": "execute_result",
          "data": {
            "text/plain": [
              "             t  cell_id  cat_id  pe_id       load  has_anomaly  last2_mean  \\\n",
              "1295995  17279        4       2      0   2.984396            0    2.992857   \n",
              "1295996  17279        4       2      1  19.591826            0    3.986447   \n",
              "1295997  17279        4       2      2  90.086700            0   11.288111   \n",
              "1295998  17279        4       2      3   1.006407            0   54.839263   \n",
              "1295999  17279        4       2      4   6.020185            0   45.546553   \n",
              "\n",
              "         last4_mean  last8_mean  per_change_last2  per_change_last3  \\\n",
              "1295995   23.975682   19.892987        400.241689          5.645876   \n",
              "1295996   20.165262   13.614927        -40.174436         50.211980   \n",
              "1295997    7.140484   15.938352        556.475310        828.672477   \n",
              "1295998   29.412855   26.573780        359.817789       -424.477943   \n",
              "1295999   28.417332   26.196507        -98.882846        126.364213   \n",
              "\n",
              "         per_change_last4  change_last2  change_last3  change_last4  \n",
              "1295995         95.764741      3.991280    -67.699659    -85.925735  \n",
              "1295996        -75.196884     -2.004100     -3.001318    -74.692256  \n",
              "1295997       -579.757968     16.607429     11.618932     10.621715  \n",
              "1295998        406.507694     70.494874     67.510478     62.521981  \n",
              "1295999       -154.156057    -89.080292   -108.672118   -111.656514  "
            ],
            "text/html": [
              "\n",
              "  <div id=\"df-31b0e52d-98e6-493e-aa44-4326c69d5991\">\n",
              "    <div class=\"colab-df-container\">\n",
              "      <div>\n",
              "<style scoped>\n",
              "    .dataframe tbody tr th:only-of-type {\n",
              "        vertical-align: middle;\n",
              "    }\n",
              "\n",
              "    .dataframe tbody tr th {\n",
              "        vertical-align: top;\n",
              "    }\n",
              "\n",
              "    .dataframe thead th {\n",
              "        text-align: right;\n",
              "    }\n",
              "</style>\n",
              "<table border=\"1\" class=\"dataframe\">\n",
              "  <thead>\n",
              "    <tr style=\"text-align: right;\">\n",
              "      <th></th>\n",
              "      <th>t</th>\n",
              "      <th>cell_id</th>\n",
              "      <th>cat_id</th>\n",
              "      <th>pe_id</th>\n",
              "      <th>load</th>\n",
              "      <th>has_anomaly</th>\n",
              "      <th>last2_mean</th>\n",
              "      <th>last4_mean</th>\n",
              "      <th>last8_mean</th>\n",
              "      <th>per_change_last2</th>\n",
              "      <th>per_change_last3</th>\n",
              "      <th>per_change_last4</th>\n",
              "      <th>change_last2</th>\n",
              "      <th>change_last3</th>\n",
              "      <th>change_last4</th>\n",
              "    </tr>\n",
              "  </thead>\n",
              "  <tbody>\n",
              "    <tr>\n",
              "      <th>1295995</th>\n",
              "      <td>17279</td>\n",
              "      <td>4</td>\n",
              "      <td>2</td>\n",
              "      <td>0</td>\n",
              "      <td>2.984396</td>\n",
              "      <td>0</td>\n",
              "      <td>2.992857</td>\n",
              "      <td>23.975682</td>\n",
              "      <td>19.892987</td>\n",
              "      <td>400.241689</td>\n",
              "      <td>5.645876</td>\n",
              "      <td>95.764741</td>\n",
              "      <td>3.991280</td>\n",
              "      <td>-67.699659</td>\n",
              "      <td>-85.925735</td>\n",
              "    </tr>\n",
              "    <tr>\n",
              "      <th>1295996</th>\n",
              "      <td>17279</td>\n",
              "      <td>4</td>\n",
              "      <td>2</td>\n",
              "      <td>1</td>\n",
              "      <td>19.591826</td>\n",
              "      <td>0</td>\n",
              "      <td>3.986447</td>\n",
              "      <td>20.165262</td>\n",
              "      <td>13.614927</td>\n",
              "      <td>-40.174436</td>\n",
              "      <td>50.211980</td>\n",
              "      <td>-75.196884</td>\n",
              "      <td>-2.004100</td>\n",
              "      <td>-3.001318</td>\n",
              "      <td>-74.692256</td>\n",
              "    </tr>\n",
              "    <tr>\n",
              "      <th>1295997</th>\n",
              "      <td>17279</td>\n",
              "      <td>4</td>\n",
              "      <td>2</td>\n",
              "      <td>2</td>\n",
              "      <td>90.086700</td>\n",
              "      <td>0</td>\n",
              "      <td>11.288111</td>\n",
              "      <td>7.140484</td>\n",
              "      <td>15.938352</td>\n",
              "      <td>556.475310</td>\n",
              "      <td>828.672477</td>\n",
              "      <td>-579.757968</td>\n",
              "      <td>16.607429</td>\n",
              "      <td>11.618932</td>\n",
              "      <td>10.621715</td>\n",
              "    </tr>\n",
              "    <tr>\n",
              "      <th>1295998</th>\n",
              "      <td>17279</td>\n",
              "      <td>4</td>\n",
              "      <td>2</td>\n",
              "      <td>3</td>\n",
              "      <td>1.006407</td>\n",
              "      <td>0</td>\n",
              "      <td>54.839263</td>\n",
              "      <td>29.412855</td>\n",
              "      <td>26.573780</td>\n",
              "      <td>359.817789</td>\n",
              "      <td>-424.477943</td>\n",
              "      <td>406.507694</td>\n",
              "      <td>70.494874</td>\n",
              "      <td>67.510478</td>\n",
              "      <td>62.521981</td>\n",
              "    </tr>\n",
              "    <tr>\n",
              "      <th>1295999</th>\n",
              "      <td>17279</td>\n",
              "      <td>4</td>\n",
              "      <td>2</td>\n",
              "      <td>4</td>\n",
              "      <td>6.020185</td>\n",
              "      <td>0</td>\n",
              "      <td>45.546553</td>\n",
              "      <td>28.417332</td>\n",
              "      <td>26.196507</td>\n",
              "      <td>-98.882846</td>\n",
              "      <td>126.364213</td>\n",
              "      <td>-154.156057</td>\n",
              "      <td>-89.080292</td>\n",
              "      <td>-108.672118</td>\n",
              "      <td>-111.656514</td>\n",
              "    </tr>\n",
              "  </tbody>\n",
              "</table>\n",
              "</div>\n",
              "      <button class=\"colab-df-convert\" onclick=\"convertToInteractive('df-31b0e52d-98e6-493e-aa44-4326c69d5991')\"\n",
              "              title=\"Convert this dataframe to an interactive table.\"\n",
              "              style=\"display:none;\">\n",
              "        \n",
              "  <svg xmlns=\"http://www.w3.org/2000/svg\" height=\"24px\"viewBox=\"0 0 24 24\"\n",
              "       width=\"24px\">\n",
              "    <path d=\"M0 0h24v24H0V0z\" fill=\"none\"/>\n",
              "    <path d=\"M18.56 5.44l.94 2.06.94-2.06 2.06-.94-2.06-.94-.94-2.06-.94 2.06-2.06.94zm-11 1L8.5 8.5l.94-2.06 2.06-.94-2.06-.94L8.5 2.5l-.94 2.06-2.06.94zm10 10l.94 2.06.94-2.06 2.06-.94-2.06-.94-.94-2.06-.94 2.06-2.06.94z\"/><path d=\"M17.41 7.96l-1.37-1.37c-.4-.4-.92-.59-1.43-.59-.52 0-1.04.2-1.43.59L10.3 9.45l-7.72 7.72c-.78.78-.78 2.05 0 2.83L4 21.41c.39.39.9.59 1.41.59.51 0 1.02-.2 1.41-.59l7.78-7.78 2.81-2.81c.8-.78.8-2.07 0-2.86zM5.41 20L4 18.59l7.72-7.72 1.47 1.35L5.41 20z\"/>\n",
              "  </svg>\n",
              "      </button>\n",
              "      \n",
              "  <style>\n",
              "    .colab-df-container {\n",
              "      display:flex;\n",
              "      flex-wrap:wrap;\n",
              "      gap: 12px;\n",
              "    }\n",
              "\n",
              "    .colab-df-convert {\n",
              "      background-color: #E8F0FE;\n",
              "      border: none;\n",
              "      border-radius: 50%;\n",
              "      cursor: pointer;\n",
              "      display: none;\n",
              "      fill: #1967D2;\n",
              "      height: 32px;\n",
              "      padding: 0 0 0 0;\n",
              "      width: 32px;\n",
              "    }\n",
              "\n",
              "    .colab-df-convert:hover {\n",
              "      background-color: #E2EBFA;\n",
              "      box-shadow: 0px 1px 2px rgba(60, 64, 67, 0.3), 0px 1px 3px 1px rgba(60, 64, 67, 0.15);\n",
              "      fill: #174EA6;\n",
              "    }\n",
              "\n",
              "    [theme=dark] .colab-df-convert {\n",
              "      background-color: #3B4455;\n",
              "      fill: #D2E3FC;\n",
              "    }\n",
              "\n",
              "    [theme=dark] .colab-df-convert:hover {\n",
              "      background-color: #434B5C;\n",
              "      box-shadow: 0px 1px 3px 1px rgba(0, 0, 0, 0.15);\n",
              "      filter: drop-shadow(0px 1px 2px rgba(0, 0, 0, 0.3));\n",
              "      fill: #FFFFFF;\n",
              "    }\n",
              "  </style>\n",
              "\n",
              "      <script>\n",
              "        const buttonEl =\n",
              "          document.querySelector('#df-31b0e52d-98e6-493e-aa44-4326c69d5991 button.colab-df-convert');\n",
              "        buttonEl.style.display =\n",
              "          google.colab.kernel.accessAllowed ? 'block' : 'none';\n",
              "\n",
              "        async function convertToInteractive(key) {\n",
              "          const element = document.querySelector('#df-31b0e52d-98e6-493e-aa44-4326c69d5991');\n",
              "          const dataTable =\n",
              "            await google.colab.kernel.invokeFunction('convertToInteractive',\n",
              "                                                     [key], {});\n",
              "          if (!dataTable) return;\n",
              "\n",
              "          const docLinkHtml = 'Like what you see? Visit the ' +\n",
              "            '<a target=\"_blank\" href=https://colab.research.google.com/notebooks/data_table.ipynb>data table notebook</a>'\n",
              "            + ' to learn more about interactive tables.';\n",
              "          element.innerHTML = '';\n",
              "          dataTable['output_type'] = 'display_data';\n",
              "          await google.colab.output.renderOutput(dataTable, element);\n",
              "          const docLink = document.createElement('div');\n",
              "          docLink.innerHTML = docLinkHtml;\n",
              "          element.appendChild(docLink);\n",
              "        }\n",
              "      </script>\n",
              "    </div>\n",
              "  </div>\n",
              "  "
            ]
          },
          "metadata": {},
          "execution_count": 4
        }
      ],
      "source": [
        "train_set.tail()"
      ]
    },
    {
      "cell_type": "code",
      "source": [
        "import pickle\n",
        "train_set.to_pickle(path = '/content/sample_data/nwdaf.pkl')"
      ],
      "metadata": {
        "id": "ACaozHoATRGf"
      },
      "execution_count": 5,
      "outputs": []
    },
    {
      "cell_type": "code",
      "source": [
        "import pandas as pd\n",
        "train_set = pd.read_pickle('/content/sample_data/nwdaf.pkl')"
      ],
      "metadata": {
        "id": "RE3jiRaUTa2-"
      },
      "execution_count": 6,
      "outputs": []
    },
    {
      "cell_type": "code",
      "execution_count": 7,
      "metadata": {
        "colab": {
          "base_uri": "https://localhost:8080/",
          "height": 206
        },
        "id": "ylV9xUroXby6",
        "outputId": "d8af2584-33fb-4253-e2ec-34827e1d9cca"
      },
      "outputs": [
        {
          "output_type": "execute_result",
          "data": {
            "text/plain": [
              "   last2_mean  last4_mean  last8_mean  per_change_last2  per_change_last3  \\\n",
              "0    0.000000    0.000000    0.000000        120.273863          0.000000   \n",
              "1    4.997074    4.997074    4.997074        220.273863        120.273863   \n",
              "2   10.500698   10.500698   10.500698        220.273863        202.738627   \n",
              "3   34.494854   24.662261   24.662261        231.069230       -335.970115   \n",
              "4   26.992577   18.746637   18.746637        -98.113127        140.573616   \n",
              "\n",
              "   per_change_last4  change_last2  change_last3  change_last4  \n",
              "0          0.000000      0.000000      0.000000      0.000000  \n",
              "1          0.000000      4.997074      4.997074      4.997074  \n",
              "2        220.273863     11.007248     11.007248      6.010174  \n",
              "3        290.572082     36.981064     31.983990     31.983990  \n",
              "4       -183.850690    -51.985619    -67.989941    -72.987015  "
            ],
            "text/html": [
              "\n",
              "  <div id=\"df-4ed4f3f9-adc1-4b22-bb61-61fb62cfd31b\">\n",
              "    <div class=\"colab-df-container\">\n",
              "      <div>\n",
              "<style scoped>\n",
              "    .dataframe tbody tr th:only-of-type {\n",
              "        vertical-align: middle;\n",
              "    }\n",
              "\n",
              "    .dataframe tbody tr th {\n",
              "        vertical-align: top;\n",
              "    }\n",
              "\n",
              "    .dataframe thead th {\n",
              "        text-align: right;\n",
              "    }\n",
              "</style>\n",
              "<table border=\"1\" class=\"dataframe\">\n",
              "  <thead>\n",
              "    <tr style=\"text-align: right;\">\n",
              "      <th></th>\n",
              "      <th>last2_mean</th>\n",
              "      <th>last4_mean</th>\n",
              "      <th>last8_mean</th>\n",
              "      <th>per_change_last2</th>\n",
              "      <th>per_change_last3</th>\n",
              "      <th>per_change_last4</th>\n",
              "      <th>change_last2</th>\n",
              "      <th>change_last3</th>\n",
              "      <th>change_last4</th>\n",
              "    </tr>\n",
              "  </thead>\n",
              "  <tbody>\n",
              "    <tr>\n",
              "      <th>0</th>\n",
              "      <td>0.000000</td>\n",
              "      <td>0.000000</td>\n",
              "      <td>0.000000</td>\n",
              "      <td>120.273863</td>\n",
              "      <td>0.000000</td>\n",
              "      <td>0.000000</td>\n",
              "      <td>0.000000</td>\n",
              "      <td>0.000000</td>\n",
              "      <td>0.000000</td>\n",
              "    </tr>\n",
              "    <tr>\n",
              "      <th>1</th>\n",
              "      <td>4.997074</td>\n",
              "      <td>4.997074</td>\n",
              "      <td>4.997074</td>\n",
              "      <td>220.273863</td>\n",
              "      <td>120.273863</td>\n",
              "      <td>0.000000</td>\n",
              "      <td>4.997074</td>\n",
              "      <td>4.997074</td>\n",
              "      <td>4.997074</td>\n",
              "    </tr>\n",
              "    <tr>\n",
              "      <th>2</th>\n",
              "      <td>10.500698</td>\n",
              "      <td>10.500698</td>\n",
              "      <td>10.500698</td>\n",
              "      <td>220.273863</td>\n",
              "      <td>202.738627</td>\n",
              "      <td>220.273863</td>\n",
              "      <td>11.007248</td>\n",
              "      <td>11.007248</td>\n",
              "      <td>6.010174</td>\n",
              "    </tr>\n",
              "    <tr>\n",
              "      <th>3</th>\n",
              "      <td>34.494854</td>\n",
              "      <td>24.662261</td>\n",
              "      <td>24.662261</td>\n",
              "      <td>231.069230</td>\n",
              "      <td>-335.970115</td>\n",
              "      <td>290.572082</td>\n",
              "      <td>36.981064</td>\n",
              "      <td>31.983990</td>\n",
              "      <td>31.983990</td>\n",
              "    </tr>\n",
              "    <tr>\n",
              "      <th>4</th>\n",
              "      <td>26.992577</td>\n",
              "      <td>18.746637</td>\n",
              "      <td>18.746637</td>\n",
              "      <td>-98.113127</td>\n",
              "      <td>140.573616</td>\n",
              "      <td>-183.850690</td>\n",
              "      <td>-51.985619</td>\n",
              "      <td>-67.989941</td>\n",
              "      <td>-72.987015</td>\n",
              "    </tr>\n",
              "  </tbody>\n",
              "</table>\n",
              "</div>\n",
              "      <button class=\"colab-df-convert\" onclick=\"convertToInteractive('df-4ed4f3f9-adc1-4b22-bb61-61fb62cfd31b')\"\n",
              "              title=\"Convert this dataframe to an interactive table.\"\n",
              "              style=\"display:none;\">\n",
              "        \n",
              "  <svg xmlns=\"http://www.w3.org/2000/svg\" height=\"24px\"viewBox=\"0 0 24 24\"\n",
              "       width=\"24px\">\n",
              "    <path d=\"M0 0h24v24H0V0z\" fill=\"none\"/>\n",
              "    <path d=\"M18.56 5.44l.94 2.06.94-2.06 2.06-.94-2.06-.94-.94-2.06-.94 2.06-2.06.94zm-11 1L8.5 8.5l.94-2.06 2.06-.94-2.06-.94L8.5 2.5l-.94 2.06-2.06.94zm10 10l.94 2.06.94-2.06 2.06-.94-2.06-.94-.94-2.06-.94 2.06-2.06.94z\"/><path d=\"M17.41 7.96l-1.37-1.37c-.4-.4-.92-.59-1.43-.59-.52 0-1.04.2-1.43.59L10.3 9.45l-7.72 7.72c-.78.78-.78 2.05 0 2.83L4 21.41c.39.39.9.59 1.41.59.51 0 1.02-.2 1.41-.59l7.78-7.78 2.81-2.81c.8-.78.8-2.07 0-2.86zM5.41 20L4 18.59l7.72-7.72 1.47 1.35L5.41 20z\"/>\n",
              "  </svg>\n",
              "      </button>\n",
              "      \n",
              "  <style>\n",
              "    .colab-df-container {\n",
              "      display:flex;\n",
              "      flex-wrap:wrap;\n",
              "      gap: 12px;\n",
              "    }\n",
              "\n",
              "    .colab-df-convert {\n",
              "      background-color: #E8F0FE;\n",
              "      border: none;\n",
              "      border-radius: 50%;\n",
              "      cursor: pointer;\n",
              "      display: none;\n",
              "      fill: #1967D2;\n",
              "      height: 32px;\n",
              "      padding: 0 0 0 0;\n",
              "      width: 32px;\n",
              "    }\n",
              "\n",
              "    .colab-df-convert:hover {\n",
              "      background-color: #E2EBFA;\n",
              "      box-shadow: 0px 1px 2px rgba(60, 64, 67, 0.3), 0px 1px 3px 1px rgba(60, 64, 67, 0.15);\n",
              "      fill: #174EA6;\n",
              "    }\n",
              "\n",
              "    [theme=dark] .colab-df-convert {\n",
              "      background-color: #3B4455;\n",
              "      fill: #D2E3FC;\n",
              "    }\n",
              "\n",
              "    [theme=dark] .colab-df-convert:hover {\n",
              "      background-color: #434B5C;\n",
              "      box-shadow: 0px 1px 3px 1px rgba(0, 0, 0, 0.15);\n",
              "      filter: drop-shadow(0px 1px 2px rgba(0, 0, 0, 0.3));\n",
              "      fill: #FFFFFF;\n",
              "    }\n",
              "  </style>\n",
              "\n",
              "      <script>\n",
              "        const buttonEl =\n",
              "          document.querySelector('#df-4ed4f3f9-adc1-4b22-bb61-61fb62cfd31b button.colab-df-convert');\n",
              "        buttonEl.style.display =\n",
              "          google.colab.kernel.accessAllowed ? 'block' : 'none';\n",
              "\n",
              "        async function convertToInteractive(key) {\n",
              "          const element = document.querySelector('#df-4ed4f3f9-adc1-4b22-bb61-61fb62cfd31b');\n",
              "          const dataTable =\n",
              "            await google.colab.kernel.invokeFunction('convertToInteractive',\n",
              "                                                     [key], {});\n",
              "          if (!dataTable) return;\n",
              "\n",
              "          const docLinkHtml = 'Like what you see? Visit the ' +\n",
              "            '<a target=\"_blank\" href=https://colab.research.google.com/notebooks/data_table.ipynb>data table notebook</a>'\n",
              "            + ' to learn more about interactive tables.';\n",
              "          element.innerHTML = '';\n",
              "          dataTable['output_type'] = 'display_data';\n",
              "          await google.colab.output.renderOutput(dataTable, element);\n",
              "          const docLink = document.createElement('div');\n",
              "          docLink.innerHTML = docLinkHtml;\n",
              "          element.appendChild(docLink);\n",
              "        }\n",
              "      </script>\n",
              "    </div>\n",
              "  </div>\n",
              "  "
            ]
          },
          "metadata": {},
          "execution_count": 7
        }
      ],
      "source": [
        "import matplotlib.pyplot as plt\n",
        "import seaborn\n",
        "train_set1 = train_set[['last2_mean','last4_mean','last8_mean','per_change_last2','per_change_last3','per_change_last4','change_last2','change_last3','change_last4']]\n",
        "train_set1.head()"
      ]
    },
    {
      "cell_type": "code",
      "execution_count": 8,
      "metadata": {
        "colab": {
          "base_uri": "https://localhost:8080/",
          "height": 332
        },
        "id": "TyFbKqyTsGbs",
        "outputId": "29c658df-3c81-4a01-ed55-827e19e9d881"
      },
      "outputs": [
        {
          "output_type": "execute_result",
          "data": {
            "text/plain": [
              "                    last2_mean  last4_mean  last8_mean  per_change_last2  \\\n",
              "last2_mean        1.000000e+00    0.420936    0.648442         -0.202197   \n",
              "last4_mean        4.209356e-01    1.000000    0.631950         -0.203184   \n",
              "last8_mean        6.484416e-01    0.631950    1.000000          0.087509   \n",
              "per_change_last2 -2.021973e-01   -0.203184    0.087509          1.000000   \n",
              "per_change_last3 -3.977426e-01   -0.823903   -0.501123          0.175465   \n",
              "per_change_last4  3.719287e-01    0.782707    0.539646         -0.009590   \n",
              "change_last2     -7.555296e-09   -0.111721   -0.087633          0.658053   \n",
              "change_last3      1.847245e-01   -0.276915   -0.259632          0.295973   \n",
              "change_last4      4.054765e-01   -0.344950    0.009903          0.455131   \n",
              "\n",
              "                  per_change_last3  per_change_last4  change_last2  \\\n",
              "last2_mean               -0.397743          0.371929 -7.555296e-09   \n",
              "last4_mean               -0.823903          0.782707 -1.117212e-01   \n",
              "last8_mean               -0.501123          0.539646 -8.763264e-02   \n",
              "per_change_last2          0.175465         -0.009590  6.580529e-01   \n",
              "per_change_last3          1.000000         -0.965316 -1.392683e-01   \n",
              "per_change_last4         -0.965316          1.000000  3.077570e-01   \n",
              "change_last2             -0.139268          0.307757  1.000000e+00   \n",
              "change_last3             -0.028226          0.126063  8.546551e-01   \n",
              "change_last4              0.085357          0.041753  7.804252e-01   \n",
              "\n",
              "                  change_last3  change_last4  \n",
              "last2_mean            0.184724      0.405477  \n",
              "last4_mean           -0.276915     -0.344950  \n",
              "last8_mean           -0.259632      0.009903  \n",
              "per_change_last2      0.295973      0.455131  \n",
              "per_change_last3     -0.028226      0.085357  \n",
              "per_change_last4      0.126063      0.041753  \n",
              "change_last2          0.854655      0.780425  \n",
              "change_last3          1.000000      0.878935  \n",
              "change_last4          0.878935      1.000000  "
            ],
            "text/html": [
              "\n",
              "  <div id=\"df-0729dfce-2285-4fc4-b328-4526bbacb030\">\n",
              "    <div class=\"colab-df-container\">\n",
              "      <div>\n",
              "<style scoped>\n",
              "    .dataframe tbody tr th:only-of-type {\n",
              "        vertical-align: middle;\n",
              "    }\n",
              "\n",
              "    .dataframe tbody tr th {\n",
              "        vertical-align: top;\n",
              "    }\n",
              "\n",
              "    .dataframe thead th {\n",
              "        text-align: right;\n",
              "    }\n",
              "</style>\n",
              "<table border=\"1\" class=\"dataframe\">\n",
              "  <thead>\n",
              "    <tr style=\"text-align: right;\">\n",
              "      <th></th>\n",
              "      <th>last2_mean</th>\n",
              "      <th>last4_mean</th>\n",
              "      <th>last8_mean</th>\n",
              "      <th>per_change_last2</th>\n",
              "      <th>per_change_last3</th>\n",
              "      <th>per_change_last4</th>\n",
              "      <th>change_last2</th>\n",
              "      <th>change_last3</th>\n",
              "      <th>change_last4</th>\n",
              "    </tr>\n",
              "  </thead>\n",
              "  <tbody>\n",
              "    <tr>\n",
              "      <th>last2_mean</th>\n",
              "      <td>1.000000e+00</td>\n",
              "      <td>0.420936</td>\n",
              "      <td>0.648442</td>\n",
              "      <td>-0.202197</td>\n",
              "      <td>-0.397743</td>\n",
              "      <td>0.371929</td>\n",
              "      <td>-7.555296e-09</td>\n",
              "      <td>0.184724</td>\n",
              "      <td>0.405477</td>\n",
              "    </tr>\n",
              "    <tr>\n",
              "      <th>last4_mean</th>\n",
              "      <td>4.209356e-01</td>\n",
              "      <td>1.000000</td>\n",
              "      <td>0.631950</td>\n",
              "      <td>-0.203184</td>\n",
              "      <td>-0.823903</td>\n",
              "      <td>0.782707</td>\n",
              "      <td>-1.117212e-01</td>\n",
              "      <td>-0.276915</td>\n",
              "      <td>-0.344950</td>\n",
              "    </tr>\n",
              "    <tr>\n",
              "      <th>last8_mean</th>\n",
              "      <td>6.484416e-01</td>\n",
              "      <td>0.631950</td>\n",
              "      <td>1.000000</td>\n",
              "      <td>0.087509</td>\n",
              "      <td>-0.501123</td>\n",
              "      <td>0.539646</td>\n",
              "      <td>-8.763264e-02</td>\n",
              "      <td>-0.259632</td>\n",
              "      <td>0.009903</td>\n",
              "    </tr>\n",
              "    <tr>\n",
              "      <th>per_change_last2</th>\n",
              "      <td>-2.021973e-01</td>\n",
              "      <td>-0.203184</td>\n",
              "      <td>0.087509</td>\n",
              "      <td>1.000000</td>\n",
              "      <td>0.175465</td>\n",
              "      <td>-0.009590</td>\n",
              "      <td>6.580529e-01</td>\n",
              "      <td>0.295973</td>\n",
              "      <td>0.455131</td>\n",
              "    </tr>\n",
              "    <tr>\n",
              "      <th>per_change_last3</th>\n",
              "      <td>-3.977426e-01</td>\n",
              "      <td>-0.823903</td>\n",
              "      <td>-0.501123</td>\n",
              "      <td>0.175465</td>\n",
              "      <td>1.000000</td>\n",
              "      <td>-0.965316</td>\n",
              "      <td>-1.392683e-01</td>\n",
              "      <td>-0.028226</td>\n",
              "      <td>0.085357</td>\n",
              "    </tr>\n",
              "    <tr>\n",
              "      <th>per_change_last4</th>\n",
              "      <td>3.719287e-01</td>\n",
              "      <td>0.782707</td>\n",
              "      <td>0.539646</td>\n",
              "      <td>-0.009590</td>\n",
              "      <td>-0.965316</td>\n",
              "      <td>1.000000</td>\n",
              "      <td>3.077570e-01</td>\n",
              "      <td>0.126063</td>\n",
              "      <td>0.041753</td>\n",
              "    </tr>\n",
              "    <tr>\n",
              "      <th>change_last2</th>\n",
              "      <td>-7.555296e-09</td>\n",
              "      <td>-0.111721</td>\n",
              "      <td>-0.087633</td>\n",
              "      <td>0.658053</td>\n",
              "      <td>-0.139268</td>\n",
              "      <td>0.307757</td>\n",
              "      <td>1.000000e+00</td>\n",
              "      <td>0.854655</td>\n",
              "      <td>0.780425</td>\n",
              "    </tr>\n",
              "    <tr>\n",
              "      <th>change_last3</th>\n",
              "      <td>1.847245e-01</td>\n",
              "      <td>-0.276915</td>\n",
              "      <td>-0.259632</td>\n",
              "      <td>0.295973</td>\n",
              "      <td>-0.028226</td>\n",
              "      <td>0.126063</td>\n",
              "      <td>8.546551e-01</td>\n",
              "      <td>1.000000</td>\n",
              "      <td>0.878935</td>\n",
              "    </tr>\n",
              "    <tr>\n",
              "      <th>change_last4</th>\n",
              "      <td>4.054765e-01</td>\n",
              "      <td>-0.344950</td>\n",
              "      <td>0.009903</td>\n",
              "      <td>0.455131</td>\n",
              "      <td>0.085357</td>\n",
              "      <td>0.041753</td>\n",
              "      <td>7.804252e-01</td>\n",
              "      <td>0.878935</td>\n",
              "      <td>1.000000</td>\n",
              "    </tr>\n",
              "  </tbody>\n",
              "</table>\n",
              "</div>\n",
              "      <button class=\"colab-df-convert\" onclick=\"convertToInteractive('df-0729dfce-2285-4fc4-b328-4526bbacb030')\"\n",
              "              title=\"Convert this dataframe to an interactive table.\"\n",
              "              style=\"display:none;\">\n",
              "        \n",
              "  <svg xmlns=\"http://www.w3.org/2000/svg\" height=\"24px\"viewBox=\"0 0 24 24\"\n",
              "       width=\"24px\">\n",
              "    <path d=\"M0 0h24v24H0V0z\" fill=\"none\"/>\n",
              "    <path d=\"M18.56 5.44l.94 2.06.94-2.06 2.06-.94-2.06-.94-.94-2.06-.94 2.06-2.06.94zm-11 1L8.5 8.5l.94-2.06 2.06-.94-2.06-.94L8.5 2.5l-.94 2.06-2.06.94zm10 10l.94 2.06.94-2.06 2.06-.94-2.06-.94-.94-2.06-.94 2.06-2.06.94z\"/><path d=\"M17.41 7.96l-1.37-1.37c-.4-.4-.92-.59-1.43-.59-.52 0-1.04.2-1.43.59L10.3 9.45l-7.72 7.72c-.78.78-.78 2.05 0 2.83L4 21.41c.39.39.9.59 1.41.59.51 0 1.02-.2 1.41-.59l7.78-7.78 2.81-2.81c.8-.78.8-2.07 0-2.86zM5.41 20L4 18.59l7.72-7.72 1.47 1.35L5.41 20z\"/>\n",
              "  </svg>\n",
              "      </button>\n",
              "      \n",
              "  <style>\n",
              "    .colab-df-container {\n",
              "      display:flex;\n",
              "      flex-wrap:wrap;\n",
              "      gap: 12px;\n",
              "    }\n",
              "\n",
              "    .colab-df-convert {\n",
              "      background-color: #E8F0FE;\n",
              "      border: none;\n",
              "      border-radius: 50%;\n",
              "      cursor: pointer;\n",
              "      display: none;\n",
              "      fill: #1967D2;\n",
              "      height: 32px;\n",
              "      padding: 0 0 0 0;\n",
              "      width: 32px;\n",
              "    }\n",
              "\n",
              "    .colab-df-convert:hover {\n",
              "      background-color: #E2EBFA;\n",
              "      box-shadow: 0px 1px 2px rgba(60, 64, 67, 0.3), 0px 1px 3px 1px rgba(60, 64, 67, 0.15);\n",
              "      fill: #174EA6;\n",
              "    }\n",
              "\n",
              "    [theme=dark] .colab-df-convert {\n",
              "      background-color: #3B4455;\n",
              "      fill: #D2E3FC;\n",
              "    }\n",
              "\n",
              "    [theme=dark] .colab-df-convert:hover {\n",
              "      background-color: #434B5C;\n",
              "      box-shadow: 0px 1px 3px 1px rgba(0, 0, 0, 0.15);\n",
              "      filter: drop-shadow(0px 1px 2px rgba(0, 0, 0, 0.3));\n",
              "      fill: #FFFFFF;\n",
              "    }\n",
              "  </style>\n",
              "\n",
              "      <script>\n",
              "        const buttonEl =\n",
              "          document.querySelector('#df-0729dfce-2285-4fc4-b328-4526bbacb030 button.colab-df-convert');\n",
              "        buttonEl.style.display =\n",
              "          google.colab.kernel.accessAllowed ? 'block' : 'none';\n",
              "\n",
              "        async function convertToInteractive(key) {\n",
              "          const element = document.querySelector('#df-0729dfce-2285-4fc4-b328-4526bbacb030');\n",
              "          const dataTable =\n",
              "            await google.colab.kernel.invokeFunction('convertToInteractive',\n",
              "                                                     [key], {});\n",
              "          if (!dataTable) return;\n",
              "\n",
              "          const docLinkHtml = 'Like what you see? Visit the ' +\n",
              "            '<a target=\"_blank\" href=https://colab.research.google.com/notebooks/data_table.ipynb>data table notebook</a>'\n",
              "            + ' to learn more about interactive tables.';\n",
              "          element.innerHTML = '';\n",
              "          dataTable['output_type'] = 'display_data';\n",
              "          await google.colab.output.renderOutput(dataTable, element);\n",
              "          const docLink = document.createElement('div');\n",
              "          docLink.innerHTML = docLinkHtml;\n",
              "          element.appendChild(docLink);\n",
              "        }\n",
              "      </script>\n",
              "    </div>\n",
              "  </div>\n",
              "  "
            ]
          },
          "metadata": {},
          "execution_count": 8
        }
      ],
      "source": [
        "train_set1.corr()"
      ]
    },
    {
      "cell_type": "code",
      "execution_count": 9,
      "metadata": {
        "colab": {
          "base_uri": "https://localhost:8080/",
          "height": 636
        },
        "id": "ak-xIObasmHq",
        "outputId": "73365215-206b-48e3-ed65-37a08a294b58"
      },
      "outputs": [
        {
          "output_type": "execute_result",
          "data": {
            "text/plain": [
              "<matplotlib.axes._subplots.AxesSubplot at 0x7f6168a4eb90>"
            ]
          },
          "metadata": {},
          "execution_count": 9
        },
        {
          "output_type": "display_data",
          "data": {
            "text/plain": [
              "<Figure size 648x648 with 2 Axes>"
            ],
            "image/png": "[encoded data removed]"
          },
          "metadata": {
            "needs_background": "light"
          }
        }
      ],
      "source": [
        "plt.figure(figsize=(9,9))\n",
        "seaborn.heatmap(train_set1.corr(), annot=True,cmap=\"coolwarm\")"
      ]
    },
    {
      "cell_type": "code",
      "execution_count": 10,
      "metadata": {
        "id": "wRH6fGjptcG6"
      },
      "outputs": [],
      "source": [
        "X = train_set1.iloc[:, :]\n",
        "y = train_set1.iloc[:, :]"
      ]
    },
    {
      "cell_type": "code",
      "execution_count": 11,
      "metadata": {
        "colab": {
          "base_uri": "https://localhost:8080/"
        },
        "id": "SGlA9dC7w7S1",
        "outputId": "48445777-9878-4abc-ee44-b3dde012d773"
      },
      "outputs": [
        {
          "output_type": "stream",
          "name": "stdout",
          "text": [
            "Training Shape (907200, 9) (907200, 9)\n",
            "Testing Shape (388800, 9) (388800, 9)\n"
          ]
        }
      ],
      "source": [
        "from sklearn.preprocessing import StandardScaler, MinMaxScaler\n",
        "mm = MinMaxScaler()\n",
        "ss = StandardScaler()\n",
        "\n",
        "X_ss = ss.fit_transform(X)\n",
        "y_mm = mm.fit_transform(y) \n",
        "\n",
        "X_train = X_ss[:907200, :]\n",
        "X_test = X_ss[907200:, :]\n",
        "\n",
        "y_train = y_mm[:907200, :]\n",
        "y_test = y_mm[907200:, :] \n",
        "\n",
        "print(\"Training Shape\", X_train.shape, y_train.shape)\n",
        "print(\"Testing Shape\", X_test.shape, y_test.shape) "
      ]
    },
    {
      "cell_type": "code",
      "execution_count": 12,
      "metadata": {
        "id": "RBHPmB20xXXP"
      },
      "outputs": [],
      "source": [
        "import torch #pytorch\n",
        "import torch.nn as nn\n",
        "from torch.autograd import Variable "
      ]
    },
    {
      "cell_type": "code",
      "execution_count": 13,
      "metadata": {
        "colab": {
          "base_uri": "https://localhost:8080/"
        },
        "id": "oMsgZS21xjb_",
        "outputId": "387ed7b4-f2bb-483c-f9be-609119c2f53a"
      },
      "outputs": [
        {
          "output_type": "stream",
          "name": "stdout",
          "text": [
            "Training Shape torch.Size([907200, 1, 9]) torch.Size([907200, 9])\n",
            "Testing Shape torch.Size([388800, 1, 9]) torch.Size([388800, 9])\n"
          ]
        }
      ],
      "source": [
        "X_train_tensors = Variable(torch.Tensor(X_train))\n",
        "X_test_tensors = Variable(torch.Tensor(X_test))\n",
        "\n",
        "y_train_tensors = Variable(torch.Tensor(y_train))\n",
        "y_test_tensors = Variable(torch.Tensor(y_test)) \n",
        "\n",
        "\n",
        "X_train_tensors_final = torch.reshape(X_train_tensors,   (X_train_tensors.shape[0], 1, X_train_tensors.shape[1]))\n",
        "X_test_tensors_final = torch.reshape(X_test_tensors,  (X_test_tensors.shape[0], 1, X_test_tensors.shape[1])) \n",
        "\n",
        "print(\"Training Shape\", X_train_tensors_final.shape, y_train_tensors.shape)\n",
        "print(\"Testing Shape\", X_test_tensors_final.shape, y_test_tensors.shape) "
      ]
    },
    {
      "cell_type": "code",
      "execution_count": 14,
      "metadata": {
        "id": "h4YQsnQ3RS1z"
      },
      "outputs": [],
      "source": [
        "import torch\n",
        "import torchvision\n",
        "import torch.nn as tn\n",
        "import matplotlib.pyplot as plt\n",
        "import torchvision.transforms as tt\n",
        "import torch.utils as utils"
      ]
    },
    {
      "cell_type": "code",
      "execution_count": 15,
      "metadata": {
        "id": "5kIRv2FCaYjD"
      },
      "outputs": [],
      "source": [
        "train_dataLoader = torch.utils.data.DataLoader(X_train, batch_size=1000,shuffle=True)\n",
        "test_dataLoader = torch.utils.data.DataLoader(X_test,batch_size=1000,shuffle=False)"
      ]
    },
    {
      "cell_type": "code",
      "execution_count": 16,
      "metadata": {
        "id": "bIFdykqabzTT"
      },
      "outputs": [],
      "source": [
        "import sklearn.preprocessing\n",
        "scaler=sklearn.preprocessing.StandardScaler()\n",
        "X_train=scaler.fit_transform(X_train)\n",
        "X_test=scaler.fit_transform(X_test)"
      ]
    },
    {
      "cell_type": "code",
      "execution_count": 17,
      "metadata": {
        "id": "G9bBc0HmvHA5"
      },
      "outputs": [],
      "source": [
        "class LSTM1(nn.Module):\n",
        "    def __init__(self, num_classes, input_size, hidden_size, num_layers, seq_length):\n",
        "        super(LSTM1, self).__init__()\n",
        "        self.num_classes = num_classes #number of classes\n",
        "        self.num_layers = num_layers #number of layers\n",
        "        self.input_size = input_size #input size\n",
        "        self.hidden_size = hidden_size #hidden state\n",
        "        self.seq_length = seq_length #sequence length\n",
        "\n",
        "        self.lstm = nn.LSTM(input_size=input_size, hidden_size=hidden_size,\n",
        "                          num_layers=num_layers, batch_first=True) #lstm\n",
        "        self.fc_1 =  nn.Linear(hidden_size, 128) #fully connected 1\n",
        "        self.fc = nn.Linear(128, num_classes) #fully connected last layer\n",
        "\n",
        "        self.relu = nn.ReLU()\n",
        "    \n",
        "    def forward(self,x):\n",
        "        h_0 = Variable(torch.zeros(self.num_layers, x.size(0), self.hidden_size)) #hidden state\n",
        "        c_0 = Variable(torch.zeros(self.num_layers, x.size(0), self.hidden_size)) #internal state\n",
        "        # Propagate input through LSTM\n",
        "        output, (hn, cn) = self.lstm(x, (h_0, c_0)) #lstm with input, hidden, and internal state\n",
        "        hn = hn.view(-1, self.hidden_size) #reshaping the data for Dense layer next\n",
        "        out = self.relu(hn)\n",
        "        out = self.fc_1(out) #first Dense\n",
        "        out = self.relu(out) #relu\n",
        "        out = self.fc(out) #Final Output\n",
        "        return out"
      ]
    },
    {
      "cell_type": "code",
      "execution_count": 18,
      "metadata": {
        "id": "8T0I0JXkvHeX"
      },
      "outputs": [],
      "source": [
        "num_epochs = 1000 #1000 epochs\n",
        "learning_rate = 0.001 #0.001 lr\n",
        "\n",
        "input_size = 9 #number of features\n",
        "hidden_size = 4 #number of features in hidden state\n",
        "num_layers = 1 #number of stacked lstm layers\n",
        "\n",
        "num_classes = 1 #number of output classes "
      ]
    },
    {
      "cell_type": "code",
      "execution_count": 19,
      "metadata": {
        "id": "ZbaX6aiwvOwe"
      },
      "outputs": [],
      "source": [
        "lstm1 = LSTM1(num_classes, input_size, hidden_size, num_layers, X_train_tensors_final.shape[1]) #our lstm class"
      ]
    },
    {
      "cell_type": "code",
      "execution_count": 20,
      "metadata": {
        "id": "3nOudfkpvTi1"
      },
      "outputs": [],
      "source": [
        "criterion = nn.L1Loss()   # mean-absolute error for regression\n",
        "optimizer = torch.optim.Adam(lstm1.parameters(), lr=learning_rate) "
      ]
    },
    {
      "cell_type": "code",
      "execution_count": 21,
      "metadata": {
        "colab": {
          "base_uri": "https://localhost:8080/"
        },
        "id": "APQ1-qDSvWTF",
        "outputId": "8daad105-a77c-4485-d166-752267fb0411"
      },
      "outputs": [
        {
          "metadata": {
            "tags": null
          },
          "name": "stderr",
          "output_type": "stream",
          "text": [
            "/usr/local/lib/python3.7/dist-packages/torch/nn/modules/loss.py:96: UserWarning: Using a target size (torch.Size([907200, 9])) that is different to the input size (torch.Size([907200, 1])). This will likely lead to incorrect results due to broadcasting. Please ensure they have the same size.\n",
            "  return F.l1_loss(input, target, reduction=self.reduction)\n"
          ]
        },
        {
          "output_type": "stream",
          "name": "stdout",
          "text": [
            "Epoch: 0, loss: 0.64152\n",
            "Epoch: 100, loss: 0.22645\n",
            "Epoch: 200, loss: 0.22465\n",
            "Epoch: 300, loss: 0.21908\n",
            "Epoch: 400, loss: 0.21534\n",
            "Epoch: 500, loss: 0.21496\n",
            "Epoch: 600, loss: 0.21485\n",
            "Epoch: 700, loss: 0.21481\n",
            "Epoch: 800, loss: 0.21479\n",
            "Epoch: 900, loss: 0.21478\n"
          ]
        }
      ],
      "source": [
        "for epoch in range(num_epochs):\n",
        "  outputs = lstm1.forward(X_train_tensors_final) #forward pass\n",
        "  optimizer.zero_grad() #caluclate the gradient, manually setting to 0\n",
        " \n",
        "  # obtain the loss function\n",
        "  loss = criterion(outputs, y_train_tensors)\n",
        " \n",
        "  loss.backward() #calculates the loss of the loss function\n",
        " \n",
        "  optimizer.step() #improve from loss, i.e backprop\n",
        "  if epoch % 100 == 0:\n",
        "    print(\"Epoch: %d, loss: %1.5f\" % (epoch, loss.item())) "
      ]
    },
    {
      "cell_type": "code",
      "source": [
        "df_X_ss = ss.transform(train_set1.iloc[:, :]) #old transformers\n",
        "df_y_mm = mm.transform(train_set1.iloc[:, :]) #old transformers\n",
        "\n",
        "df_X_ss = Variable(torch.Tensor(df_X_ss)) #converting to Tensors\n",
        "df_y_mm = Variable(torch.Tensor(df_y_mm))\n",
        "#reshaping the dataset\n",
        "df_X_ss = torch.reshape(df_X_ss, (df_X_ss.shape[0], 1, df_X_ss.shape[1]))"
      ],
      "metadata": {
        "id": "lFJdP1nC2eNT"
      },
      "execution_count": 22,
      "outputs": []
    },
    {
      "cell_type": "code",
      "source": [
        "type(train_set1)"
      ],
      "metadata": {
        "colab": {
          "base_uri": "https://localhost:8080/"
        },
        "id": "H7TquksZnhVZ",
        "outputId": "b4477c40-757f-457c-bc63-124bb94821e4"
      },
      "execution_count": null,
      "outputs": [
        {
          "output_type": "execute_result",
          "data": {
            "text/plain": [
              "pandas.core.frame.DataFrame"
            ]
          },
          "metadata": {},
          "execution_count": 29
        }
      ]
    },
    {
      "cell_type": "code",
      "source": [
        "train_predict = lstm1(df_X_ss)#forward pass\n",
        "data_predict = X_test_tensors.numpy() #numpy conversion\n",
        "dataY_plot = df_y_mm.data.numpy()\n",
        "\n",
        "data_predict = mm.inverse_transform(data_predict) #reverse transformation\n",
        "dataY_plot = mm.inverse_transform(dataY_plot)\n",
        "plt.figure(figsize=(9,9)) #plotting\n",
        "plt.axvline(x=200, c='r', linestyle='--') #size of the training set\n",
        "\n",
        "plt.plot(dataY_plot, label='Actuall Data') #actual plot\n",
        "plt.plot(data_predict, label='Predicted Data') #predicted plot\n",
        "plt.title('Time-Series Prediction')\n",
        "plt.legend()\n",
        "plt.show() "
      ],
      "metadata": {
        "id": "FAz9IxPZ-EzV",
        "colab": {
          "base_uri": "https://localhost:8080/",
          "height": 601
        },
        "outputId": "854617f0-92f8-4dc1-c899-e7dd334d191c"
      },
      "execution_count": 23,
      "outputs": [
        {
          "output_type": "stream",
          "name": "stderr",
          "text": [
            "/usr/local/lib/python3.7/dist-packages/IPython/core/pylabtools.py:125: UserWarning: Creating legend with loc=\"best\" can be slow with large amounts of data.\n",
            "  fig.canvas.print_figure(bytes_io, **kw)\n"
          ]
        },
        {
          "output_type": "display_data",
          "data": {
            "text/plain": [
              "<Figure size 648x648 with 1 Axes>"
            ],
            "image/png": "[encoded data removed]"
          },
          "metadata": {
            "needs_background": "light"
          }
        }
      ]
    }
  ],
  "metadata": {
    "colab": {
      "name": "nwdaf_lstm.ipynb",
      "provenance": []
    },
    "kernelspec": {
      "display_name": "Python 3",
      "name": "python3"
    },
    "language_info": {
      "name": "python"
    }
  },
  "nbformat": 4,
  "nbformat_minor": 0
}