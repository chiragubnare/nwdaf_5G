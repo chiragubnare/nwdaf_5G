{
  "nbformat": 4,
  "nbformat_minor": 0,
  "metadata": {
    "colab": {
      "provenance": []
    },
    "kernelspec": {
      "name": "python3",
      "display_name": "Python 3"
    },
    "language_info": {
      "name": "python"
    }
  },
  "cells": [
    {
      "cell_type": "code",
      "source": [
        "import tensorflow as tf\n",
        "import pandas as pd\n",
        "import numpy as np\n",
        "import seaborn as sns\n",
        "import matplotlib.pyplot as plt"
      ],
      "metadata": {
        "id": "LbwMe10bv839"
      },
      "execution_count": 61,
      "outputs": []
    },
    {
      "cell_type": "code",
      "execution_count": 62,
      "metadata": {
        "colab": {
          "base_uri": "https://localhost:8080/"
        },
        "id": "fa4sR0wpvQpy",
        "outputId": "e4f5103f-b6f4-4fd6-ee06-e58847522354"
      },
      "outputs": [
        {
          "output_type": "stream",
          "name": "stdout",
          "text": [
            "Drive already mounted at /content/drive; to attempt to forcibly remount, call drive.mount(\"/content/drive\", force_remount=True).\n"
          ]
        }
      ],
      "source": [
        "from google.colab import drive\n",
        "drive.mount('/content/drive')"
      ]
    },
    {
      "cell_type": "code",
      "source": [
        "Path = '/content/drive/MyDrive/Colab Notebooks/'"
      ],
      "metadata": {
        "id": "TkO4v09evZ5X"
      },
      "execution_count": 63,
      "outputs": []
    },
    {
      "cell_type": "code",
      "source": [
        "train_set = pd.read_csv('/content/drive/MyDrive/Colab Notebooks/nwdaf_train.csv')\n",
        "train_set.head()"
      ],
      "metadata": {
        "colab": {
          "base_uri": "https://localhost:8080/",
          "height": 250
        },
        "id": "nmli5KQbv5aJ",
        "outputId": "6979ef53-a858-43d2-d371-35304d051372"
      },
      "execution_count": 64,
      "outputs": [
        {
          "output_type": "execute_result",
          "data": {
            "text/plain": [
              "   t  cell_id  cat_id  pe_id       load  has_anomaly  last2_mean  last4_mean  \\\n",
              "0  0        0       0      0   4.997074            0    0.000000    0.000000   \n",
              "1  0        0       0      1  16.004322            0    4.997074    4.997074   \n",
              "2  0        0       0      2  52.985386            0   10.500698   10.500698   \n",
              "3  0        0       0      3   0.999767            0   34.494854   24.662261   \n",
              "4  0        0       0      4   5.000597            0   26.992577   18.746637   \n",
              "\n",
              "   last8_mean  per_change_last2  per_change_last3  per_change_last4  \\\n",
              "0    0.000000        120.273863          0.000000          0.000000   \n",
              "1    4.997074        220.273863        120.273863          0.000000   \n",
              "2   10.500698        220.273863        202.738627        220.273863   \n",
              "3   24.662261        231.069230       -335.970115        290.572082   \n",
              "4   18.746637        -98.113127        140.573616       -183.850690   \n",
              "\n",
              "   change_last2  change_last3  change_last4  \n",
              "0      0.000000      0.000000      0.000000  \n",
              "1      4.997074      4.997074      4.997074  \n",
              "2     11.007248     11.007248      6.010174  \n",
              "3     36.981064     31.983990     31.983990  \n",
              "4    -51.985619    -67.989941    -72.987015  "
            ],
            "text/html": [
              "\n",
              "  <div id=\"df-b1da8807-0157-4c69-bcfb-ee8c5b112116\">\n",
              "    <div class=\"colab-df-container\">\n",
              "      <div>\n",
              "<style scoped>\n",
              "    .dataframe tbody tr th:only-of-type {\n",
              "        vertical-align: middle;\n",
              "    }\n",
              "\n",
              "    .dataframe tbody tr th {\n",
              "        vertical-align: top;\n",
              "    }\n",
              "\n",
              "    .dataframe thead th {\n",
              "        text-align: right;\n",
              "    }\n",
              "</style>\n",
              "<table border=\"1\" class=\"dataframe\">\n",
              "  <thead>\n",
              "    <tr style=\"text-align: right;\">\n",
              "      <th></th>\n",
              "      <th>t</th>\n",
              "      <th>cell_id</th>\n",
              "      <th>cat_id</th>\n",
              "      <th>pe_id</th>\n",
              "      <th>load</th>\n",
              "      <th>has_anomaly</th>\n",
              "      <th>last2_mean</th>\n",
              "      <th>last4_mean</th>\n",
              "      <th>last8_mean</th>\n",
              "      <th>per_change_last2</th>\n",
              "      <th>per_change_last3</th>\n",
              "      <th>per_change_last4</th>\n",
              "      <th>change_last2</th>\n",
              "      <th>change_last3</th>\n",
              "      <th>change_last4</th>\n",
              "    </tr>\n",
              "  </thead>\n",
              "  <tbody>\n",
              "    <tr>\n",
              "      <th>0</th>\n",
              "      <td>0</td>\n",
              "      <td>0</td>\n",
              "      <td>0</td>\n",
              "      <td>0</td>\n",
              "      <td>4.997074</td>\n",
              "      <td>0</td>\n",
              "      <td>0.000000</td>\n",
              "      <td>0.000000</td>\n",
              "      <td>0.000000</td>\n",
              "      <td>120.273863</td>\n",
              "      <td>0.000000</td>\n",
              "      <td>0.000000</td>\n",
              "      <td>0.000000</td>\n",
              "      <td>0.000000</td>\n",
              "      <td>0.000000</td>\n",
              "    </tr>\n",
              "    <tr>\n",
              "      <th>1</th>\n",
              "      <td>0</td>\n",
              "      <td>0</td>\n",
              "      <td>0</td>\n",
              "      <td>1</td>\n",
              "      <td>16.004322</td>\n",
              "      <td>0</td>\n",
              "      <td>4.997074</td>\n",
              "      <td>4.997074</td>\n",
              "      <td>4.997074</td>\n",
              "      <td>220.273863</td>\n",
              "      <td>120.273863</td>\n",
              "      <td>0.000000</td>\n",
              "      <td>4.997074</td>\n",
              "      <td>4.997074</td>\n",
              "      <td>4.997074</td>\n",
              "    </tr>\n",
              "    <tr>\n",
              "      <th>2</th>\n",
              "      <td>0</td>\n",
              "      <td>0</td>\n",
              "      <td>0</td>\n",
              "      <td>2</td>\n",
              "      <td>52.985386</td>\n",
              "      <td>0</td>\n",
              "      <td>10.500698</td>\n",
              "      <td>10.500698</td>\n",
              "      <td>10.500698</td>\n",
              "      <td>220.273863</td>\n",
              "      <td>202.738627</td>\n",
              "      <td>220.273863</td>\n",
              "      <td>11.007248</td>\n",
              "      <td>11.007248</td>\n",
              "      <td>6.010174</td>\n",
              "    </tr>\n",
              "    <tr>\n",
              "      <th>3</th>\n",
              "      <td>0</td>\n",
              "      <td>0</td>\n",
              "      <td>0</td>\n",
              "      <td>3</td>\n",
              "      <td>0.999767</td>\n",
              "      <td>0</td>\n",
              "      <td>34.494854</td>\n",
              "      <td>24.662261</td>\n",
              "      <td>24.662261</td>\n",
              "      <td>231.069230</td>\n",
              "      <td>-335.970115</td>\n",
              "      <td>290.572082</td>\n",
              "      <td>36.981064</td>\n",
              "      <td>31.983990</td>\n",
              "      <td>31.983990</td>\n",
              "    </tr>\n",
              "    <tr>\n",
              "      <th>4</th>\n",
              "      <td>0</td>\n",
              "      <td>0</td>\n",
              "      <td>0</td>\n",
              "      <td>4</td>\n",
              "      <td>5.000597</td>\n",
              "      <td>0</td>\n",
              "      <td>26.992577</td>\n",
              "      <td>18.746637</td>\n",
              "      <td>18.746637</td>\n",
              "      <td>-98.113127</td>\n",
              "      <td>140.573616</td>\n",
              "      <td>-183.850690</td>\n",
              "      <td>-51.985619</td>\n",
              "      <td>-67.989941</td>\n",
              "      <td>-72.987015</td>\n",
              "    </tr>\n",
              "  </tbody>\n",
              "</table>\n",
              "</div>\n",
              "      <button class=\"colab-df-convert\" onclick=\"convertToInteractive('df-b1da8807-0157-4c69-bcfb-ee8c5b112116')\"\n",
              "              title=\"Convert this dataframe to an interactive table.\"\n",
              "              style=\"display:none;\">\n",
              "        \n",
              "  <svg xmlns=\"http://www.w3.org/2000/svg\" height=\"24px\"viewBox=\"0 0 24 24\"\n",
              "       width=\"24px\">\n",
              "    <path d=\"M0 0h24v24H0V0z\" fill=\"none\"/>\n",
              "    <path d=\"M18.56 5.44l.94 2.06.94-2.06 2.06-.94-2.06-.94-.94-2.06-.94 2.06-2.06.94zm-11 1L8.5 8.5l.94-2.06 2.06-.94-2.06-.94L8.5 2.5l-.94 2.06-2.06.94zm10 10l.94 2.06.94-2.06 2.06-.94-2.06-.94-.94-2.06-.94 2.06-2.06.94z\"/><path d=\"M17.41 7.96l-1.37-1.37c-.4-.4-.92-.59-1.43-.59-.52 0-1.04.2-1.43.59L10.3 9.45l-7.72 7.72c-.78.78-.78 2.05 0 2.83L4 21.41c.39.39.9.59 1.41.59.51 0 1.02-.2 1.41-.59l7.78-7.78 2.81-2.81c.8-.78.8-2.07 0-2.86zM5.41 20L4 18.59l7.72-7.72 1.47 1.35L5.41 20z\"/>\n",
              "  </svg>\n",
              "      </button>\n",
              "      \n",
              "  <style>\n",
              "    .colab-df-container {\n",
              "      display:flex;\n",
              "      flex-wrap:wrap;\n",
              "      gap: 12px;\n",
              "    }\n",
              "\n",
              "    .colab-df-convert {\n",
              "      background-color: #E8F0FE;\n",
              "      border: none;\n",
              "      border-radius: 50%;\n",
              "      cursor: pointer;\n",
              "      display: none;\n",
              "      fill: #1967D2;\n",
              "      height: 32px;\n",
              "      padding: 0 0 0 0;\n",
              "      width: 32px;\n",
              "    }\n",
              "\n",
              "    .colab-df-convert:hover {\n",
              "      background-color: #E2EBFA;\n",
              "      box-shadow: 0px 1px 2px rgba(60, 64, 67, 0.3), 0px 1px 3px 1px rgba(60, 64, 67, 0.15);\n",
              "      fill: #174EA6;\n",
              "    }\n",
              "\n",
              "    [theme=dark] .colab-df-convert {\n",
              "      background-color: #3B4455;\n",
              "      fill: #D2E3FC;\n",
              "    }\n",
              "\n",
              "    [theme=dark] .colab-df-convert:hover {\n",
              "      background-color: #434B5C;\n",
              "      box-shadow: 0px 1px 3px 1px rgba(0, 0, 0, 0.15);\n",
              "      filter: drop-shadow(0px 1px 2px rgba(0, 0, 0, 0.3));\n",
              "      fill: #FFFFFF;\n",
              "    }\n",
              "  </style>\n",
              "\n",
              "      <script>\n",
              "        const buttonEl =\n",
              "          document.querySelector('#df-b1da8807-0157-4c69-bcfb-ee8c5b112116 button.colab-df-convert');\n",
              "        buttonEl.style.display =\n",
              "          google.colab.kernel.accessAllowed ? 'block' : 'none';\n",
              "\n",
              "        async function convertToInteractive(key) {\n",
              "          const element = document.querySelector('#df-b1da8807-0157-4c69-bcfb-ee8c5b112116');\n",
              "          const dataTable =\n",
              "            await google.colab.kernel.invokeFunction('convertToInteractive',\n",
              "                                                     [key], {});\n",
              "          if (!dataTable) return;\n",
              "\n",
              "          const docLinkHtml = 'Like what you see? Visit the ' +\n",
              "            '<a target=\"_blank\" href=https://colab.research.google.com/notebooks/data_table.ipynb>data table notebook</a>'\n",
              "            + ' to learn more about interactive tables.';\n",
              "          element.innerHTML = '';\n",
              "          dataTable['output_type'] = 'display_data';\n",
              "          await google.colab.output.renderOutput(dataTable, element);\n",
              "          const docLink = document.createElement('div');\n",
              "          docLink.innerHTML = docLinkHtml;\n",
              "          element.appendChild(docLink);\n",
              "        }\n",
              "      </script>\n",
              "    </div>\n",
              "  </div>\n",
              "  "
            ]
          },
          "metadata": {},
          "execution_count": 64
        }
      ]
    },
    {
      "cell_type": "code",
      "source": [
        "train_set.describe()"
      ],
      "metadata": {
        "colab": {
          "base_uri": "https://localhost:8080/",
          "height": 364
        },
        "id": "xDmpmWxPzxt_",
        "outputId": "98611db1-9928-4108-ab2e-b99fd02d6abb"
      },
      "execution_count": 66,
      "outputs": [
        {
          "output_type": "execute_result",
          "data": {
            "text/plain": [
              "                  t       cell_id        cat_id         pe_id          load  \\\n",
              "count  1.296000e+06  1.296000e+06  1.296000e+06  1.296000e+06  1.296000e+06   \n",
              "mean   8.639500e+03  2.000000e+00  1.000000e+00  2.000000e+00  2.044400e+01   \n",
              "std    4.988308e+03  1.414214e+00  8.164969e-01  1.414214e+00  2.796243e+01   \n",
              "min    0.000000e+00  0.000000e+00  0.000000e+00  0.000000e+00  9.586763e-01   \n",
              "25%    4.319750e+03  1.000000e+00  0.000000e+00  1.000000e+00  3.145766e+00   \n",
              "50%    8.639500e+03  2.000000e+00  1.000000e+00  2.000000e+00  5.307915e+00   \n",
              "75%    1.295925e+04  3.000000e+00  2.000000e+00  3.000000e+00  1.998009e+01   \n",
              "max    1.727900e+04  4.000000e+00  2.000000e+00  4.000000e+00  9.908193e+01   \n",
              "\n",
              "        has_anomaly    last2_mean    last4_mean    last8_mean  \\\n",
              "count  1.296000e+06  1.296000e+06  1.296000e+06  1.296000e+06   \n",
              "mean   7.750000e-01  2.044400e+01  2.044397e+01  2.044396e+01   \n",
              "std    4.175825e-01  1.836114e+01  7.728815e+00  4.884219e+00   \n",
              "min    0.000000e+00  0.000000e+00  0.000000e+00  0.000000e+00   \n",
              "25%    1.000000e+00  4.186562e+00  1.648981e+01  1.632659e+01   \n",
              "50%    1.000000e+00  1.122113e+01  2.105918e+01  2.146017e+01   \n",
              "75%    1.000000e+00  3.671978e+01  2.581806e+01  2.458612e+01   \n",
              "max    1.000000e+00  6.051487e+01  3.237507e+01  2.886791e+01   \n",
              "\n",
              "       per_change_last2  per_change_last3  per_change_last4  change_last2  \\\n",
              "count      1.296000e+06      1.296000e+06      1.296000e+06  1.296000e+06   \n",
              "mean       1.964118e+02      1.821678e+02     -8.955450e+01  7.765488e-07   \n",
              "std        2.282726e+02      5.099480e+02      3.461546e+02  4.217896e+01   \n",
              "min       -9.894538e+01     -4.784511e+02     -1.100894e+03 -9.800128e+01   \n",
              "25%       -3.972398e+01      5.606895e+00     -1.822128e+02 -2.000153e+00   \n",
              "50%        2.317020e+02      2.498055e+01     -4.998787e+01  4.187658e+00   \n",
              "75%        3.941615e+02      1.397648e+02      9.573781e+01  1.696077e+01   \n",
              "max        6.254300e+02      1.645032e+03      4.587639e+02  7.790070e+01   \n",
              "\n",
              "       change_last3  change_last4  \n",
              "count  1.296000e+06  1.296000e+06  \n",
              "mean  -2.044392e+01 -4.088784e+01  \n",
              "std    5.343585e+01  5.847180e+01  \n",
              "min   -1.199491e+02 -1.231225e+02  \n",
              "25%   -6.946949e+01 -9.214865e+01  \n",
              "50%   -2.090062e+00 -6.577327e+01  \n",
              "75%    1.193041e+01  1.092316e+01  \n",
              "max    7.467860e+01  6.936207e+01  "
            ],
            "text/html": [
              "\n",
              "  <div id=\"df-9dd9f19f-da37-416e-9928-c40d70c137f7\">\n",
              "    <div class=\"colab-df-container\">\n",
              "      <div>\n",
              "<style scoped>\n",
              "    .dataframe tbody tr th:only-of-type {\n",
              "        vertical-align: middle;\n",
              "    }\n",
              "\n",
              "    .dataframe tbody tr th {\n",
              "        vertical-align: top;\n",
              "    }\n",
              "\n",
              "    .dataframe thead th {\n",
              "        text-align: right;\n",
              "    }\n",
              "</style>\n",
              "<table border=\"1\" class=\"dataframe\">\n",
              "  <thead>\n",
              "    <tr style=\"text-align: right;\">\n",
              "      <th></th>\n",
              "      <th>t</th>\n",
              "      <th>cell_id</th>\n",
              "      <th>cat_id</th>\n",
              "      <th>pe_id</th>\n",
              "      <th>load</th>\n",
              "      <th>has_anomaly</th>\n",
              "      <th>last2_mean</th>\n",
              "      <th>last4_mean</th>\n",
              "      <th>last8_mean</th>\n",
              "      <th>per_change_last2</th>\n",
              "      <th>per_change_last3</th>\n",
              "      <th>per_change_last4</th>\n",
              "      <th>change_last2</th>\n",
              "      <th>change_last3</th>\n",
              "      <th>change_last4</th>\n",
              "    </tr>\n",
              "  </thead>\n",
              "  <tbody>\n",
              "    <tr>\n",
              "      <th>count</th>\n",
              "      <td>1.296000e+06</td>\n",
              "      <td>1.296000e+06</td>\n",
              "      <td>1.296000e+06</td>\n",
              "      <td>1.296000e+06</td>\n",
              "      <td>1.296000e+06</td>\n",
              "      <td>1.296000e+06</td>\n",
              "      <td>1.296000e+06</td>\n",
              "      <td>1.296000e+06</td>\n",
              "      <td>1.296000e+06</td>\n",
              "      <td>1.296000e+06</td>\n",
              "      <td>1.296000e+06</td>\n",
              "      <td>1.296000e+06</td>\n",
              "      <td>1.296000e+06</td>\n",
              "      <td>1.296000e+06</td>\n",
              "      <td>1.296000e+06</td>\n",
              "    </tr>\n",
              "    <tr>\n",
              "      <th>mean</th>\n",
              "      <td>8.639500e+03</td>\n",
              "      <td>2.000000e+00</td>\n",
              "      <td>1.000000e+00</td>\n",
              "      <td>2.000000e+00</td>\n",
              "      <td>2.044400e+01</td>\n",
              "      <td>7.750000e-01</td>\n",
              "      <td>2.044400e+01</td>\n",
              "      <td>2.044397e+01</td>\n",
              "      <td>2.044396e+01</td>\n",
              "      <td>1.964118e+02</td>\n",
              "      <td>1.821678e+02</td>\n",
              "      <td>-8.955450e+01</td>\n",
              "      <td>7.765488e-07</td>\n",
              "      <td>-2.044392e+01</td>\n",
              "      <td>-4.088784e+01</td>\n",
              "    </tr>\n",
              "    <tr>\n",
              "      <th>std</th>\n",
              "      <td>4.988308e+03</td>\n",
              "      <td>1.414214e+00</td>\n",
              "      <td>8.164969e-01</td>\n",
              "      <td>1.414214e+00</td>\n",
              "      <td>2.796243e+01</td>\n",
              "      <td>4.175825e-01</td>\n",
              "      <td>1.836114e+01</td>\n",
              "      <td>7.728815e+00</td>\n",
              "      <td>4.884219e+00</td>\n",
              "      <td>2.282726e+02</td>\n",
              "      <td>5.099480e+02</td>\n",
              "      <td>3.461546e+02</td>\n",
              "      <td>4.217896e+01</td>\n",
              "      <td>5.343585e+01</td>\n",
              "      <td>5.847180e+01</td>\n",
              "    </tr>\n",
              "    <tr>\n",
              "      <th>min</th>\n",
              "      <td>0.000000e+00</td>\n",
              "      <td>0.000000e+00</td>\n",
              "      <td>0.000000e+00</td>\n",
              "      <td>0.000000e+00</td>\n",
              "      <td>9.586763e-01</td>\n",
              "      <td>0.000000e+00</td>\n",
              "      <td>0.000000e+00</td>\n",
              "      <td>0.000000e+00</td>\n",
              "      <td>0.000000e+00</td>\n",
              "      <td>-9.894538e+01</td>\n",
              "      <td>-4.784511e+02</td>\n",
              "      <td>-1.100894e+03</td>\n",
              "      <td>-9.800128e+01</td>\n",
              "      <td>-1.199491e+02</td>\n",
              "      <td>-1.231225e+02</td>\n",
              "    </tr>\n",
              "    <tr>\n",
              "      <th>25%</th>\n",
              "      <td>4.319750e+03</td>\n",
              "      <td>1.000000e+00</td>\n",
              "      <td>0.000000e+00</td>\n",
              "      <td>1.000000e+00</td>\n",
              "      <td>3.145766e+00</td>\n",
              "      <td>1.000000e+00</td>\n",
              "      <td>4.186562e+00</td>\n",
              "      <td>1.648981e+01</td>\n",
              "      <td>1.632659e+01</td>\n",
              "      <td>-3.972398e+01</td>\n",
              "      <td>5.606895e+00</td>\n",
              "      <td>-1.822128e+02</td>\n",
              "      <td>-2.000153e+00</td>\n",
              "      <td>-6.946949e+01</td>\n",
              "      <td>-9.214865e+01</td>\n",
              "    </tr>\n",
              "    <tr>\n",
              "      <th>50%</th>\n",
              "      <td>8.639500e+03</td>\n",
              "      <td>2.000000e+00</td>\n",
              "      <td>1.000000e+00</td>\n",
              "      <td>2.000000e+00</td>\n",
              "      <td>5.307915e+00</td>\n",
              "      <td>1.000000e+00</td>\n",
              "      <td>1.122113e+01</td>\n",
              "      <td>2.105918e+01</td>\n",
              "      <td>2.146017e+01</td>\n",
              "      <td>2.317020e+02</td>\n",
              "      <td>2.498055e+01</td>\n",
              "      <td>-4.998787e+01</td>\n",
              "      <td>4.187658e+00</td>\n",
              "      <td>-2.090062e+00</td>\n",
              "      <td>-6.577327e+01</td>\n",
              "    </tr>\n",
              "    <tr>\n",
              "      <th>75%</th>\n",
              "      <td>1.295925e+04</td>\n",
              "      <td>3.000000e+00</td>\n",
              "      <td>2.000000e+00</td>\n",
              "      <td>3.000000e+00</td>\n",
              "      <td>1.998009e+01</td>\n",
              "      <td>1.000000e+00</td>\n",
              "      <td>3.671978e+01</td>\n",
              "      <td>2.581806e+01</td>\n",
              "      <td>2.458612e+01</td>\n",
              "      <td>3.941615e+02</td>\n",
              "      <td>1.397648e+02</td>\n",
              "      <td>9.573781e+01</td>\n",
              "      <td>1.696077e+01</td>\n",
              "      <td>1.193041e+01</td>\n",
              "      <td>1.092316e+01</td>\n",
              "    </tr>\n",
              "    <tr>\n",
              "      <th>max</th>\n",
              "      <td>1.727900e+04</td>\n",
              "      <td>4.000000e+00</td>\n",
              "      <td>2.000000e+00</td>\n",
              "      <td>4.000000e+00</td>\n",
              "      <td>9.908193e+01</td>\n",
              "      <td>1.000000e+00</td>\n",
              "      <td>6.051487e+01</td>\n",
              "      <td>3.237507e+01</td>\n",
              "      <td>2.886791e+01</td>\n",
              "      <td>6.254300e+02</td>\n",
              "      <td>1.645032e+03</td>\n",
              "      <td>4.587639e+02</td>\n",
              "      <td>7.790070e+01</td>\n",
              "      <td>7.467860e+01</td>\n",
              "      <td>6.936207e+01</td>\n",
              "    </tr>\n",
              "  </tbody>\n",
              "</table>\n",
              "</div>\n",
              "      <button class=\"colab-df-convert\" onclick=\"convertToInteractive('df-9dd9f19f-da37-416e-9928-c40d70c137f7')\"\n",
              "              title=\"Convert this dataframe to an interactive table.\"\n",
              "              style=\"display:none;\">\n",
              "        \n",
              "  <svg xmlns=\"http://www.w3.org/2000/svg\" height=\"24px\"viewBox=\"0 0 24 24\"\n",
              "       width=\"24px\">\n",
              "    <path d=\"M0 0h24v24H0V0z\" fill=\"none\"/>\n",
              "    <path d=\"M18.56 5.44l.94 2.06.94-2.06 2.06-.94-2.06-.94-.94-2.06-.94 2.06-2.06.94zm-11 1L8.5 8.5l.94-2.06 2.06-.94-2.06-.94L8.5 2.5l-.94 2.06-2.06.94zm10 10l.94 2.06.94-2.06 2.06-.94-2.06-.94-.94-2.06-.94 2.06-2.06.94z\"/><path d=\"M17.41 7.96l-1.37-1.37c-.4-.4-.92-.59-1.43-.59-.52 0-1.04.2-1.43.59L10.3 9.45l-7.72 7.72c-.78.78-.78 2.05 0 2.83L4 21.41c.39.39.9.59 1.41.59.51 0 1.02-.2 1.41-.59l7.78-7.78 2.81-2.81c.8-.78.8-2.07 0-2.86zM5.41 20L4 18.59l7.72-7.72 1.47 1.35L5.41 20z\"/>\n",
              "  </svg>\n",
              "      </button>\n",
              "      \n",
              "  <style>\n",
              "    .colab-df-container {\n",
              "      display:flex;\n",
              "      flex-wrap:wrap;\n",
              "      gap: 12px;\n",
              "    }\n",
              "\n",
              "    .colab-df-convert {\n",
              "      background-color: #E8F0FE;\n",
              "      border: none;\n",
              "      border-radius: 50%;\n",
              "      cursor: pointer;\n",
              "      display: none;\n",
              "      fill: #1967D2;\n",
              "      height: 32px;\n",
              "      padding: 0 0 0 0;\n",
              "      width: 32px;\n",
              "    }\n",
              "\n",
              "    .colab-df-convert:hover {\n",
              "      background-color: #E2EBFA;\n",
              "      box-shadow: 0px 1px 2px rgba(60, 64, 67, 0.3), 0px 1px 3px 1px rgba(60, 64, 67, 0.15);\n",
              "      fill: #174EA6;\n",
              "    }\n",
              "\n",
              "    [theme=dark] .colab-df-convert {\n",
              "      background-color: #3B4455;\n",
              "      fill: #D2E3FC;\n",
              "    }\n",
              "\n",
              "    [theme=dark] .colab-df-convert:hover {\n",
              "      background-color: #434B5C;\n",
              "      box-shadow: 0px 1px 3px 1px rgba(0, 0, 0, 0.15);\n",
              "      filter: drop-shadow(0px 1px 2px rgba(0, 0, 0, 0.3));\n",
              "      fill: #FFFFFF;\n",
              "    }\n",
              "  </style>\n",
              "\n",
              "      <script>\n",
              "        const buttonEl =\n",
              "          document.querySelector('#df-9dd9f19f-da37-416e-9928-c40d70c137f7 button.colab-df-convert');\n",
              "        buttonEl.style.display =\n",
              "          google.colab.kernel.accessAllowed ? 'block' : 'none';\n",
              "\n",
              "        async function convertToInteractive(key) {\n",
              "          const element = document.querySelector('#df-9dd9f19f-da37-416e-9928-c40d70c137f7');\n",
              "          const dataTable =\n",
              "            await google.colab.kernel.invokeFunction('convertToInteractive',\n",
              "                                                     [key], {});\n",
              "          if (!dataTable) return;\n",
              "\n",
              "          const docLinkHtml = 'Like what you see? Visit the ' +\n",
              "            '<a target=\"_blank\" href=https://colab.research.google.com/notebooks/data_table.ipynb>data table notebook</a>'\n",
              "            + ' to learn more about interactive tables.';\n",
              "          element.innerHTML = '';\n",
              "          dataTable['output_type'] = 'display_data';\n",
              "          await google.colab.output.renderOutput(dataTable, element);\n",
              "          const docLink = document.createElement('div');\n",
              "          docLink.innerHTML = docLinkHtml;\n",
              "          element.appendChild(docLink);\n",
              "        }\n",
              "      </script>\n",
              "    </div>\n",
              "  </div>\n",
              "  "
            ]
          },
          "metadata": {},
          "execution_count": 66
        }
      ]
    },
    {
      "cell_type": "code",
      "source": [
        "plt.figure(figsize = (12, 7))\n",
        "sns.countplot(x = 'has_anomaly', data = train_set)"
      ],
      "metadata": {
        "colab": {
          "base_uri": "https://localhost:8080/",
          "height": 471
        },
        "id": "v9mLSQ1nz6mB",
        "outputId": "c1f5cf77-c3e8-44c3-f3fc-db3de467fdc7"
      },
      "execution_count": 67,
      "outputs": [
        {
          "output_type": "execute_result",
          "data": {
            "text/plain": [
              "<AxesSubplot:xlabel='has_anomaly', ylabel='count'>"
            ]
          },
          "metadata": {},
          "execution_count": 67
        },
        {
          "output_type": "display_data",
          "data": {
            "text/plain": [
              "<Figure size 864x504 with 1 Axes>"
            ],
            "image/png": "[encoded data removed]"
          },
          "metadata": {
            "needs_background": "light"
          }
        }
      ]
    },
    {
      "cell_type": "code",
      "source": [
        "train_set1 = train_set[0:10000]"
      ],
      "metadata": {
        "id": "IkBdV1e2Avc0"
      },
      "execution_count": 68,
      "outputs": []
    },
    {
      "cell_type": "code",
      "source": [
        "sns.pairplot(train_set1, hue = 'has_anomaly', vars = [ 'load', 'last2_mean', 'per_change_last2','change_last2'])"
      ],
      "metadata": {
        "colab": {
          "base_uri": "https://localhost:8080/",
          "height": 743
        },
        "id": "z19wN8FwAquR",
        "outputId": "802ccdcc-99e4-4387-e81a-7dcb1d907616"
      },
      "execution_count": 69,
      "outputs": [
        {
          "output_type": "execute_result",
          "data": {
            "text/plain": [
              "<seaborn.axisgrid.PairGrid at 0x7f4d278dc9d0>"
            ]
          },
          "metadata": {},
          "execution_count": 69
        },
        {
          "output_type": "display_data",
          "data": {
            "text/plain": [
              "<Figure size 793.75x720 with 20 Axes>"
            ],
            "image/png": "[encoded data removed]"
          },
          "metadata": {
            "needs_background": "light"
          }
        }
      ]
    },
    {
      "cell_type": "code",
      "source": [
        "X = train_set1.iloc[:, 0:14]\n",
        "y = train_set1.iloc[:, 14]"
      ],
      "metadata": {
        "id": "zeZBE83yJDgv"
      },
      "execution_count": 70,
      "outputs": []
    },
    {
      "cell_type": "code",
      "source": [
        "# Feature Scaling is a must in ANN\n",
        "from sklearn.preprocessing import StandardScaler\n",
        "sc = StandardScaler()\n",
        "X = sc.fit_transform(X)"
      ],
      "metadata": {
        "id": "AWvk39pVJbYp"
      },
      "execution_count": 71,
      "outputs": []
    },
    {
      "cell_type": "code",
      "source": [
        "from sklearn.model_selection import train_test_split\n",
        "X_train, X_test, y_train, y_test = train_test_split(X, y, test_size = 0.2)"
      ],
      "metadata": {
        "id": "1b9mSWP2JfIg"
      },
      "execution_count": 72,
      "outputs": []
    },
    {
      "cell_type": "code",
      "source": [
        "X_train.shape"
      ],
      "metadata": {
        "colab": {
          "base_uri": "https://localhost:8080/"
        },
        "id": "gsmCLrmSJmC7",
        "outputId": "43707681-89aa-4175-b869-79b4e925c10f"
      },
      "execution_count": 73,
      "outputs": [
        {
          "output_type": "execute_result",
          "data": {
            "text/plain": [
              "(8000, 14)"
            ]
          },
          "metadata": {},
          "execution_count": 73
        }
      ]
    },
    {
      "cell_type": "code",
      "source": [
        "X_test.shape"
      ],
      "metadata": {
        "colab": {
          "base_uri": "https://localhost:8080/"
        },
        "id": "n7-oicdpJmq4",
        "outputId": "c43fd588-dfb7-4131-e830-006f75650bf2"
      },
      "execution_count": 74,
      "outputs": [
        {
          "output_type": "execute_result",
          "data": {
            "text/plain": [
              "(2000, 14)"
            ]
          },
          "metadata": {},
          "execution_count": 74
        }
      ]
    },
    {
      "cell_type": "code",
      "source": [
        "import tensorflow as tf \n",
        "ANN_model = tf.keras.models.Sequential()\n",
        "ANN_model.add(tf.keras.layers.Dense(units=400, activation='relu', input_shape=(14, )))\n",
        "ANN_model.add(tf.keras.layers.Dropout(0.2))\n",
        "ANN_model.add(tf.keras.layers.Dense(units=400, activation='relu'))\n",
        "ANN_model.add(tf.keras.layers.Dropout(0.2))\n",
        "ANN_model.add(tf.keras.layers.Dense(units=1, activation='sigmoid'))"
      ],
      "metadata": {
        "id": "I6u-6dxuJ8-7"
      },
      "execution_count": 75,
      "outputs": []
    },
    {
      "cell_type": "code",
      "source": [
        "ANN_model.summary()"
      ],
      "metadata": {
        "colab": {
          "base_uri": "https://localhost:8080/"
        },
        "id": "ElGKMVgwKAs8",
        "outputId": "e314523d-4ec9-4189-dcfc-45e61a9dab75"
      },
      "execution_count": 76,
      "outputs": [
        {
          "output_type": "stream",
          "name": "stdout",
          "text": [
            "Model: \"sequential_4\"\n",
            "_________________________________________________________________\n",
            " Layer (type)                Output Shape              Param #   \n",
            "=================================================================\n",
            " dense_12 (Dense)            (None, 400)               6000      \n",
            "                                                                 \n",
            " dropout_8 (Dropout)         (None, 400)               0         \n",
            "                                                                 \n",
            " dense_13 (Dense)            (None, 400)               160400    \n",
            "                                                                 \n",
            " dropout_9 (Dropout)         (None, 400)               0         \n",
            "                                                                 \n",
            " dense_14 (Dense)            (None, 1)                 401       \n",
            "                                                                 \n",
            "=================================================================\n",
            "Total params: 166,801\n",
            "Trainable params: 166,801\n",
            "Non-trainable params: 0\n",
            "_________________________________________________________________\n"
          ]
        }
      ]
    },
    {
      "cell_type": "code",
      "source": [
        "ANN_model.compile(optimizer='Adam', loss='binary_crossentropy', metrics = ['accuracy'])"
      ],
      "metadata": {
        "id": "dJ4WzFIgJp14"
      },
      "execution_count": 77,
      "outputs": []
    },
    {
      "cell_type": "code",
      "source": [
        "epochs_hist = ANN_model.fit(X_train, y_train, epochs = 10)"
      ],
      "metadata": {
        "colab": {
          "base_uri": "https://localhost:8080/"
        },
        "id": "7dMbPI9FKKi_",
        "outputId": "ed062bbc-527d-4689-b6bc-263343992685"
      },
      "execution_count": 78,
      "outputs": [
        {
          "output_type": "stream",
          "name": "stdout",
          "text": [
            "Epoch 1/10\n",
            "250/250 [==============================] - 2s 4ms/step - loss: -277483.5938 - accuracy: 1.2500e-04\n",
            "Epoch 2/10\n",
            "250/250 [==============================] - 1s 4ms/step - loss: -5555982.5000 - accuracy: 1.2500e-04\n",
            "Epoch 3/10\n",
            "250/250 [==============================] - 1s 4ms/step - loss: -25764908.0000 - accuracy: 1.2500e-04\n",
            "Epoch 4/10\n",
            "250/250 [==============================] - 1s 4ms/step - loss: -69180648.0000 - accuracy: 1.2500e-04\n",
            "Epoch 5/10\n",
            "250/250 [==============================] - 1s 4ms/step - loss: -141948560.0000 - accuracy: 1.2500e-04\n",
            "Epoch 6/10\n",
            "250/250 [==============================] - 2s 6ms/step - loss: -248925856.0000 - accuracy: 1.2500e-04\n",
            "Epoch 7/10\n",
            "250/250 [==============================] - 2s 6ms/step - loss: -394667232.0000 - accuracy: 1.2500e-04\n",
            "Epoch 8/10\n",
            "250/250 [==============================] - 1s 4ms/step - loss: -580744832.0000 - accuracy: 1.2500e-04\n",
            "Epoch 9/10\n",
            "250/250 [==============================] - 1s 4ms/step - loss: -810947648.0000 - accuracy: 1.2500e-04\n",
            "Epoch 10/10\n",
            "250/250 [==============================] - 1s 4ms/step - loss: -1084868864.0000 - accuracy: 1.2500e-04\n"
          ]
        }
      ]
    },
    {
      "cell_type": "code",
      "source": [
        "y_pred = ANN_model.predict(X_test)"
      ],
      "metadata": {
        "id": "_FghSwROQrXa",
        "colab": {
          "base_uri": "https://localhost:8080/"
        },
        "outputId": "5130e628-2734-4d54-8086-51510a4762b6"
      },
      "execution_count": 79,
      "outputs": [
        {
          "output_type": "stream",
          "name": "stdout",
          "text": [
            "63/63 [==============================] - 0s 1ms/step\n"
          ]
        }
      ]
    },
    {
      "cell_type": "code",
      "source": [
        "epochs_hist.history.keys()"
      ],
      "metadata": {
        "colab": {
          "base_uri": "https://localhost:8080/"
        },
        "id": "J3R-O_dJLJoG",
        "outputId": "c85674fe-dba3-43dd-ebc4-5bcae2b4cd4f"
      },
      "execution_count": 80,
      "outputs": [
        {
          "output_type": "execute_result",
          "data": {
            "text/plain": [
              "dict_keys(['loss', 'accuracy'])"
            ]
          },
          "metadata": {},
          "execution_count": 80
        }
      ]
    },
    {
      "cell_type": "code",
      "source": [
        "plt.plot(epochs_hist.history['loss'])\n",
        "plt.title('Model Loss Progress During Training')\n",
        "plt.xlabel('Epoch')\n",
        "plt.ylabel('Training and Validation Loss')\n",
        "plt.legend(['Training Loss'])"
      ],
      "metadata": {
        "colab": {
          "base_uri": "https://localhost:8080/",
          "height": 312
        },
        "id": "ZgR8SlmiQbet",
        "outputId": "9181d670-3a8e-4fcd-ea84-af50c78c1e0a"
      },
      "execution_count": 81,
      "outputs": [
        {
          "output_type": "execute_result",
          "data": {
            "text/plain": [
              "<matplotlib.legend.Legend at 0x7f4d268b8fa0>"
            ]
          },
          "metadata": {},
          "execution_count": 81
        },
        {
          "output_type": "display_data",
          "data": {
            "text/plain": [
              "<Figure size 432x288 with 1 Axes>"
            ],
            "image/png": "[encoded data removed]"
          },
          "metadata": {
            "needs_background": "light"
          }
        }
      ]
    },
    {
      "cell_type": "code",
      "source": [
        "from sklearn.preprocessing import LabelEncoder\n",
        "le = LabelEncoder()\n",
        "y_train = le.fit_transform(y_train)"
      ],
      "metadata": {
        "id": "d5vSbGK6APUd"
      },
      "execution_count": 83,
      "outputs": []
    },
    {
      "cell_type": "code",
      "source": [
        "import xgboost as xgb\n",
        "XGB_model = xgb.XGBClassifier(learning_rate = 0.1, max_depth = 5, n_estimators = 10)\n",
        "XGB_model.fit(X_train, y_train)"
      ],
      "metadata": {
        "colab": {
          "base_uri": "https://localhost:8080/",
          "height": 248
        },
        "id": "3Z7009_qSg2M",
        "outputId": "dbf31c90-48b6-4b9e-e7d4-201ce04f5241"
      },
      "execution_count": 84,
      "outputs": [
        {
          "output_type": "execute_result",
          "data": {
            "text/plain": [
              "XGBClassifier(base_score=None, booster=None, callbacks=None,\n",
              "              colsample_bylevel=None, colsample_bynode=None,\n",
              "              colsample_bytree=None, early_stopping_rounds=None,\n",
              "              enable_categorical=False, eval_metric=None, feature_types=None,\n",
              "              gamma=None, gpu_id=None, grow_policy=None, importance_type=None,\n",
              "              interaction_constraints=None, learning_rate=0.1, max_bin=None,\n",
              "              max_cat_threshold=None, max_cat_to_onehot=None,\n",
              "              max_delta_step=None, max_depth=5, max_leaves=None,\n",
              "              min_child_weight=None, missing=nan, monotone_constraints=None,\n",
              "              n_estimators=10, n_jobs=None, num_parallel_tree=None,\n",
              "              objective='multi:softprob', predictor=None, ...)"
            ],
            "text/html": [
              "<style>#sk-container-id-2 {color: black;background-color: white;}#sk-container-id-2 pre{padding: 0;}#sk-container-id-2 div.sk-toggleable {background-color: white;}#sk-container-id-2 label.sk-toggleable__label {cursor: pointer;display: block;width: 100%;margin-bottom: 0;padding: 0.3em;box-sizing: border-box;text-align: center;}#sk-container-id-2 label.sk-toggleable__label-arrow:before {content: \"▸\";float: left;margin-right: 0.25em;color: #696969;}#sk-container-id-2 label.sk-toggleable__label-arrow:hover:before {color: black;}#sk-container-id-2 div.sk-estimator:hover label.sk-toggleable__label-arrow:before {color: black;}#sk-container-id-2 div.sk-toggleable__content {max-height: 0;max-width: 0;overflow: hidden;text-align: left;background-color: #f0f8ff;}#sk-container-id-2 div.sk-toggleable__content pre {margin: 0.2em;color: black;border-radius: 0.25em;background-color: #f0f8ff;}#sk-container-id-2 input.sk-toggleable__control:checked~div.sk-toggleable__content {max-height: 200px;max-width: 100%;overflow: auto;}#sk-container-id-2 input.sk-toggleable__control:checked~label.sk-toggleable__label-arrow:before {content: \"▾\";}#sk-container-id-2 div.sk-estimator input.sk-toggleable__control:checked~label.sk-toggleable__label {background-color: #d4ebff;}#sk-container-id-2 div.sk-label input.sk-toggleable__control:checked~label.sk-toggleable__label {background-color: #d4ebff;}#sk-container-id-2 input.sk-hidden--visually {border: 0;clip: rect(1px 1px 1px 1px);clip: rect(1px, 1px, 1px, 1px);height: 1px;margin: -1px;overflow: hidden;padding: 0;position: absolute;width: 1px;}#sk-container-id-2 div.sk-estimator {font-family: monospace;background-color: #f0f8ff;border: 1px dotted black;border-radius: 0.25em;box-sizing: border-box;margin-bottom: 0.5em;}#sk-container-id-2 div.sk-estimator:hover {background-color: #d4ebff;}#sk-container-id-2 div.sk-parallel-item::after {content: \"\";width: 100%;border-bottom: 1px solid gray;flex-grow: 1;}#sk-container-id-2 div.sk-label:hover label.sk-toggleable__label {background-color: #d4ebff;}#sk-container-id-2 div.sk-serial::before {content: \"\";position: absolute;border-left: 1px solid gray;box-sizing: border-box;top: 0;bottom: 0;left: 50%;z-index: 0;}#sk-container-id-2 div.sk-serial {display: flex;flex-direction: column;align-items: center;background-color: white;padding-right: 0.2em;padding-left: 0.2em;position: relative;}#sk-container-id-2 div.sk-item {position: relative;z-index: 1;}#sk-container-id-2 div.sk-parallel {display: flex;align-items: stretch;justify-content: center;background-color: white;position: relative;}#sk-container-id-2 div.sk-item::before, #sk-container-id-2 div.sk-parallel-item::before {content: \"\";position: absolute;border-left: 1px solid gray;box-sizing: border-box;top: 0;bottom: 0;left: 50%;z-index: -1;}#sk-container-id-2 div.sk-parallel-item {display: flex;flex-direction: column;z-index: 1;position: relative;background-color: white;}#sk-container-id-2 div.sk-parallel-item:first-child::after {align-self: flex-end;width: 50%;}#sk-container-id-2 div.sk-parallel-item:last-child::after {align-self: flex-start;width: 50%;}#sk-container-id-2 div.sk-parallel-item:only-child::after {width: 0;}#sk-container-id-2 div.sk-dashed-wrapped {border: 1px dashed gray;margin: 0 0.4em 0.5em 0.4em;box-sizing: border-box;padding-bottom: 0.4em;background-color: white;}#sk-container-id-2 div.sk-label label {font-family: monospace;font-weight: bold;display: inline-block;line-height: 1.2em;}#sk-container-id-2 div.sk-label-container {text-align: center;}#sk-container-id-2 div.sk-container {/* jupyter's `normalize.less` sets `[hidden] { display: none; }` but bootstrap.min.css set `[hidden] { display: none !important; }` so we also need the `!important` here to be able to override the default hidden behavior on the sphinx rendered scikit-learn.org. See: https://github.com/scikit-learn/scikit-learn/issues/21755 */display: inline-block !important;position: relative;}#sk-container-id-2 div.sk-text-repr-fallback {display: none;}</style><div id=\"sk-container-id-2\" class=\"sk-top-container\"><div class=\"sk-text-repr-fallback\"><pre>XGBClassifier(base_score=None, booster=None, callbacks=None,\n",
              "              colsample_bylevel=None, colsample_bynode=None,\n",
              "              colsample_bytree=None, early_stopping_rounds=None,\n",
              "              enable_categorical=False, eval_metric=None, feature_types=None,\n",
              "              gamma=None, gpu_id=None, grow_policy=None, importance_type=None,\n",
              "              interaction_constraints=None, learning_rate=0.1, max_bin=None,\n",
              "              max_cat_threshold=None, max_cat_to_onehot=None,\n",
              "              max_delta_step=None, max_depth=5, max_leaves=None,\n",
              "              min_child_weight=None, missing=nan, monotone_constraints=None,\n",
              "              n_estimators=10, n_jobs=None, num_parallel_tree=None,\n",
              "              objective=&#x27;multi:softprob&#x27;, predictor=None, ...)</pre><b>In a Jupyter environment, please rerun this cell to show the HTML representation or trust the notebook. <br />On GitHub, the HTML representation is unable to render, please try loading this page with nbviewer.org.</b></div><div class=\"sk-container\" hidden><div class=\"sk-item\"><div class=\"sk-estimator sk-toggleable\"><input class=\"sk-toggleable__control sk-hidden--visually\" id=\"sk-estimator-id-2\" type=\"checkbox\" checked><label for=\"sk-estimator-id-2\" class=\"sk-toggleable__label sk-toggleable__label-arrow\">XGBClassifier</label><div class=\"sk-toggleable__content\"><pre>XGBClassifier(base_score=None, booster=None, callbacks=None,\n",
              "              colsample_bylevel=None, colsample_bynode=None,\n",
              "              colsample_bytree=None, early_stopping_rounds=None,\n",
              "              enable_categorical=False, eval_metric=None, feature_types=None,\n",
              "              gamma=None, gpu_id=None, grow_policy=None, importance_type=None,\n",
              "              interaction_constraints=None, learning_rate=0.1, max_bin=None,\n",
              "              max_cat_threshold=None, max_cat_to_onehot=None,\n",
              "              max_delta_step=None, max_depth=5, max_leaves=None,\n",
              "              min_child_weight=None, missing=nan, monotone_constraints=None,\n",
              "              n_estimators=10, n_jobs=None, num_parallel_tree=None,\n",
              "              objective=&#x27;multi:softprob&#x27;, predictor=None, ...)</pre></div></div></div></div></div>"
            ]
          },
          "metadata": {},
          "execution_count": 84
        }
      ]
    },
    {
      "cell_type": "code",
      "source": [
        "y_predict = XGB_model.predict(X_test)"
      ],
      "metadata": {
        "id": "pRe27ZKRbWNM"
      },
      "execution_count": 85,
      "outputs": []
    },
    {
      "cell_type": "code",
      "source": [
        "plt.plot(y_predict)"
      ],
      "metadata": {
        "colab": {
          "base_uri": "https://localhost:8080/",
          "height": 282
        },
        "id": "k2TlfG2Tbgpk",
        "outputId": "e834c840-24fe-439e-c29a-afaadbe61565"
      },
      "execution_count": 86,
      "outputs": [
        {
          "output_type": "execute_result",
          "data": {
            "text/plain": [
              "[<matplotlib.lines.Line2D at 0x7f4d2a162df0>]"
            ]
          },
          "metadata": {},
          "execution_count": 86
        },
        {
          "output_type": "display_data",
          "data": {
            "text/plain": [
              "<Figure size 432x288 with 1 Axes>"
            ],
            "image/png": "[encoded data removed]"
          },
          "metadata": {
            "needs_background": "light"
          }
        }
      ]
    }
  ]
}